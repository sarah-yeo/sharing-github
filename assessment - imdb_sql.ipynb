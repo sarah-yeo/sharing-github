{
 "cells": [
  {
   "cell_type": "code",
   "execution_count": 1,
   "metadata": {},
   "outputs": [],
   "source": [
    "# Importing necessary libraries\n",
    "\n",
    "import sqlite3 as sql\n",
    "import pandas as pd\n",
    "import kagglehub\n",
    "import os\n",
    "import matplotlib.pyplot"
   ]
  },
  {
   "cell_type": "code",
   "execution_count": 2,
   "metadata": {},
   "outputs": [
    {
     "name": "stdout",
     "output_type": "stream",
     "text": [
      "['IMDB SQL project.txt', 'movies.sqlite', 'sqlite.9.sql']\n"
     ]
    }
   ],
   "source": [
    "# Creating the path to access the kaggle dataset\n",
    "\n",
    "path = kagglehub.dataset_download(\"luizpaulodeoliveira/imdb-project-sql\")\n",
    "\n",
    "# To show what files are stored in the kaggle dataset\n",
    "print(os.listdir(path))"
   ]
  },
  {
   "cell_type": "code",
   "execution_count": 3,
   "metadata": {},
   "outputs": [
    {
     "name": "stdout",
     "output_type": "stream",
     "text": [
      "[('movies',), ('sqlite_sequence',), ('directors',)]\n"
     ]
    }
   ],
   "source": [
    "# Access only the necessary database file (ie. 'movies.sqlite')\n",
    "db_file = os.path.join(path, \"movies.sqlite\")\n",
    "\n",
    "# Connect to the SQLite database\n",
    "conn = sql.connect(db_file)\n",
    "cursor = conn.cursor()\n",
    "\n",
    "# List all tables in the database\n",
    "cursor.execute(\"SELECT name FROM sqlite_master WHERE type='table';\")\n",
    "tables = cursor.fetchall()\n",
    "print(tables)"
   ]
  },
  {
   "cell_type": "code",
   "execution_count": 4,
   "metadata": {},
   "outputs": [],
   "source": [
    "# Only the tables 'director' and 'movies' will be necessary"
   ]
  },
  {
   "cell_type": "code",
   "execution_count": 5,
   "metadata": {},
   "outputs": [
    {
     "name": "stdout",
     "output_type": "stream",
     "text": [
      "                name    id  gender   uid department\n",
      "0      James Cameron  4762       2  2710  Directing\n",
      "1     Gore Verbinski  4763       2  1704  Directing\n",
      "2         Sam Mendes  4764       2    39  Directing\n",
      "3  Christopher Nolan  4765       2   525  Directing\n",
      "4     Andrew Stanton  4766       2     7  Directing\n"
     ]
    }
   ],
   "source": [
    "# To preview table 'directors'\n",
    "\n",
    "cursor.execute(\"SELECT * FROM directors LIMIT 5;\")\n",
    "\n",
    "# Print dataframe\n",
    "df_directors = pd.DataFrame(cursor.fetchall(), columns=[desc[0] for desc in cursor.description])\n",
    "print(df_directors)"
   ]
  },
  {
   "cell_type": "code",
   "execution_count": 6,
   "metadata": {},
   "outputs": [
    {
     "name": "stdout",
     "output_type": "stream",
     "text": [
      "      id                            original_title     budget  popularity  \\\n",
      "0  43597                                    Avatar  237000000         150   \n",
      "1  43598  Pirates of the Caribbean: At World's End  300000000         139   \n",
      "2  43599                                   Spectre  245000000         107   \n",
      "3  43600                     The Dark Knight Rises  250000000         112   \n",
      "4  43601                               John Carter  260000000          43   \n",
      "\n",
      "  release_date     revenue                                     title  \\\n",
      "0   2009-12-10  2787965087                                    Avatar   \n",
      "1   2007-05-19   961000000  Pirates of the Caribbean: At World's End   \n",
      "2   2015-10-26   880674609                                   Spectre   \n",
      "3   2012-07-16  1084939099                     The Dark Knight Rises   \n",
      "4   2012-03-07   284139100                               John Carter   \n",
      "\n",
      "   vote_average  vote_count  \\\n",
      "0           7.2       11800   \n",
      "1           6.9        4500   \n",
      "2           6.3        4466   \n",
      "3           7.6        9106   \n",
      "4           6.1        2124   \n",
      "\n",
      "                                            overview  \\\n",
      "0  In the 22nd century, a paraplegic Marine is di...   \n",
      "1  Captain Barbossa, long believed to be dead, ha...   \n",
      "2  A cryptic message from Bond’s past sends him o...   \n",
      "3  Following the death of District Attorney Harve...   \n",
      "4  John Carter is a war-weary, former military ca...   \n",
      "\n",
      "                                          tagline     uid  director_id  \n",
      "0                     Enter the World of Pandora.   19995         4762  \n",
      "1  At the end of the world, the adventure begins.     285         4763  \n",
      "2                           A Plan No One Escapes  206647         4764  \n",
      "3                                 The Legend Ends   49026         4765  \n",
      "4            Lost in our world, found in another.   49529         4766  \n"
     ]
    }
   ],
   "source": [
    "# To preview table 'movies'\n",
    "\n",
    "cursor.execute(\"SELECT * FROM movies LIMIT 5;\")\n",
    "\n",
    "# Print dataframe\n",
    "df_movies = pd.DataFrame(cursor.fetchall(), columns=[desc[0] for desc in cursor.description])\n",
    "print(df_movies)"
   ]
  },
  {
   "cell_type": "code",
   "execution_count": 7,
   "metadata": {},
   "outputs": [
    {
     "name": "stdout",
     "output_type": "stream",
     "text": [
      "   movie_id                     title  vote_average  vote_count\n",
      "0     47116          Stiff Upper Lips          10.0           1\n",
      "1     47642     Dancer, Texas Pop. 81          10.0           1\n",
      "2     47589                 Sardaarji           9.5           2\n",
      "3     45983            One Man's Hero           9.3           2\n",
      "4     45478  The Shawshank Redemption           8.5        8205\n",
      "5     46567        There Goes My Baby           8.5           2\n",
      "6     46934             The Godfather           8.4        5893\n",
      "7     46393     The Prisoner of Zenda           8.4          11\n",
      "8     44259                Fight Club           8.3        9413\n",
      "9     46829              Pulp Fiction           8.3        8428\n"
     ]
    }
   ],
   "source": [
    "### TASK ###\n",
    "### Identify the top 10 highest-rated movies (by IMDb rating).\n",
    "\n",
    "# Determine the top 10 highest-rated movies by:\n",
    "# a. highest to lowest vote average; and\n",
    "# b. highest to lowest vote count (if movies have the same vote average)\n",
    "\n",
    "top_10_movies = \"\"\"\n",
    "SELECT id AS movie_id, title, vote_average, vote_count\n",
    "FROM movies\n",
    "ORDER BY vote_average DESC, vote_count DESC\n",
    "LIMIT 10\n",
    "\"\"\"\n",
    "\n",
    "# Execute query\n",
    "cursor.execute(top_10_movies)\n",
    "\n",
    "# Print dataframe\n",
    "df_top_10_movies = pd.DataFrame(cursor.fetchall(), columns=[desc[0] for desc in cursor.description])\n",
    "print(df_top_10_movies)"
   ]
  },
  {
   "cell_type": "code",
   "execution_count": 8,
   "metadata": {},
   "outputs": [],
   "source": [
    "# IMDb ranks movies based on the average vote received.\n",
    "# To identify the top 10 highest-rated movies, the list of movies must first be ordered by highest to lowest vote average.\n",
    "# In the event two or more movies have the same vote average, they will be ordered by highest to lowest vote count (to prioritize movies with more votes).\n",
    "# Since we only want the top 10 highest-rated movies, the top 10 rows of the dataset will be sufficient."
   ]
  },
  {
   "cell_type": "code",
   "execution_count": 9,
   "metadata": {},
   "outputs": [],
   "source": [
    "### FINDINGS ###\n",
    "\n",
    "# A high-ranking movie generally has an average vote of 8 and above.\n",
    " \n",
    "# The movies \"Stiff Upper Lips\", \"Dancer, Texas Pop. 81\", \"Sardaarji\", \"One Man's Hero\", \"There Goes My Baby\" and \"The Prisoner of Zenda\"\n",
    "# are not good representations of a high-ranking movie as their vote count is less than 20, which is significantly lower than the vote count\n",
    "# of the other movies in the top 10 list.\n",
    "\n",
    "# A high vote average alone is unable to determine if the movie is popular and successful. "
   ]
  },
  {
   "cell_type": "code",
   "execution_count": 10,
   "metadata": {},
   "outputs": [
    {
     "name": "stdout",
     "output_type": "stream",
     "text": [
      "     id              name  movie_count\n",
      "0  4799  Steven Spielberg           27\n",
      "1  5457       Woody Allen           21\n",
      "2  4809   Martin Scorsese           20\n",
      "3  5087    Clint Eastwood           20\n"
     ]
    }
   ],
   "source": [
    "### TASK ###\n",
    "### Find the most prolific directors (directors with the most movies).\n",
    "\n",
    "# We define a prolific director as one who has directed 20 or more movies\n",
    "\n",
    "# Append the names of directors to the movies table by their IDs\n",
    "# Count the number of movies directed per director\n",
    "# Filter only the director IDs with 20 or more movies\n",
    "# Create a new table for this data\n",
    "\n",
    "prolific_director = \"\"\"\n",
    "SELECT d.id, d.name, COUNT(*) AS movie_count\n",
    "FROM movies m\n",
    "LEFT JOIN directors d ON m.director_id = d.id\n",
    "GROUP BY d.id, d.name\n",
    "HAVING COUNT(*) >= 20\n",
    "ORDER BY movie_count DESC\n",
    "\"\"\"\n",
    "\n",
    "# Execute query\n",
    "cursor.execute(prolific_director)\n",
    "\n",
    "# Print dataframe\n",
    "df_prolific_director = pd.DataFrame(cursor.fetchall(), columns=[desc[0] for desc in cursor.description])\n",
    "print(df_prolific_director)"
   ]
  },
  {
   "cell_type": "code",
   "execution_count": 11,
   "metadata": {},
   "outputs": [],
   "source": [
    "# We first define a prolific director as one who has directed 20 or more movies.\n",
    "# To identify prolific directors, we have to count the number of movies each director has directed based on their ID.\n",
    "# We only extract the rows with director IDs that have a count of 20 or more.\n",
    "# We create a relationship between the lists with the directors' IDs to find their names."
   ]
  },
  {
   "cell_type": "code",
   "execution_count": 12,
   "metadata": {},
   "outputs": [],
   "source": [
    "### FINDINGS ###\n",
    "\n",
    "# Steven Spielberg can be said to be the most profilic, with a significant difference of movie count (count of 7)\n",
    "# between himself and the others.\n",
    "\n",
    "# A prolific director shoud be determined as one who has directed the most number of films in the span of their career,\n",
    "# and not just based on the numerical figure of movies they have directed.\n",
    "# ie. The highest average number of directed movies per year wil be a better determinant."
   ]
  },
  {
   "cell_type": "code",
   "execution_count": 13,
   "metadata": {},
   "outputs": [
    {
     "name": "stdout",
     "output_type": "stream",
     "text": [
      "    year  vote_average_year\n",
      "0   1916               7.40\n",
      "1   1925               7.00\n",
      "2   1927               8.00\n",
      "3   1929               6.30\n",
      "4   1930               6.10\n",
      "..   ...                ...\n",
      "85  2013               6.12\n",
      "86  2014               5.63\n",
      "87  2015               5.64\n",
      "88  2016               5.83\n",
      "89  2017               7.40\n",
      "\n",
      "[90 rows x 2 columns]\n"
     ]
    },
    {
     "data": {
      "text/plain": [
       "<Axes: title={'center': 'Ratings Per Year'}, xlabel='year'>"
      ]
     },
     "execution_count": 13,
     "metadata": {},
     "output_type": "execute_result"
    },
    {
     "data": {
      "image/png": "[encoded data removed]",
      "text/plain": [
       "<Figure size 640x480 with 1 Axes>"
      ]
     },
     "metadata": {},
     "output_type": "display_data"
    }
   ],
   "source": [
    "### TASK ###\n",
    "### Determine trends in average movie ratings over the years.\n",
    "\n",
    "# Group the movies by category \"year\"\n",
    "# Calculate the average of all the vote_average movie ratings for each year\n",
    "# List down in chronological order to analyse the trend\n",
    "\n",
    "ratings = \"\"\"\n",
    "SELECT\n",
    "  strftime('%Y', release_date) AS year,\n",
    "  ROUND(AVG(vote_average), 2) AS vote_average_year\n",
    "FROM movies\n",
    "GROUP BY year\n",
    "ORDER BY year\n",
    "\"\"\"\n",
    "\n",
    "# Execute query\n",
    "cursor.execute(ratings)\n",
    "\n",
    "# Print dataframe\n",
    "df_ratings = pd.DataFrame(cursor.fetchall(), columns=[desc[0] for desc in cursor.description])\n",
    "print(df_ratings)\n",
    "\n",
    "# Plot line graph to view data\n",
    "df_ratings.plot(x='year', y='vote_average_year', kind='line', title='Ratings Per Year')"
   ]
  },
  {
   "cell_type": "code",
   "execution_count": 14,
   "metadata": {},
   "outputs": [],
   "source": [
    "# We are only interested in the vote average of the all the movies across the years.\n",
    "# A good measure to use would be to find the average of the vote average for each year."
   ]
  },
  {
   "cell_type": "code",
   "execution_count": 15,
   "metadata": {},
   "outputs": [],
   "source": [
    "### FINDINGS ###\n",
    "\n",
    "# There is a slight downward trend for movie ratings over the years.\n",
    "\n",
    "# The downward trend is more significant starting from year 1977 onwards until year 2016.\n",
    "# However, the average rating picked up right after in year 2017 (rating of 7.4).\n",
    "\n",
    "# The year 1927 is shown to have the highest average vote across the years.\n",
    "\n",
    "# There was a small dip in average ratings in the year 1933 (rating of 5.6)."
   ]
  },
  {
   "cell_type": "code",
   "execution_count": 16,
   "metadata": {},
   "outputs": [],
   "source": [
    "# Note: Kaggle dataset does not reflect movie genres and actors"
   ]
  },
  {
   "cell_type": "code",
   "execution_count": 17,
   "metadata": {},
   "outputs": [],
   "source": [
    "# Close the connection to the SQLite database\n",
    "conn.close()"
   ]
  }
 ],
 "metadata": {
  "kernelspec": {
   "display_name": "Python 3",
   "language": "python",
   "name": "python3"
  },
  "language_info": {
   "codemirror_mode": {
    "name": "ipython",
    "version": 3
   },
   "file_extension": ".py",
   "mimetype": "text/x-python",
   "name": "python",
   "nbconvert_exporter": "python",
   "pygments_lexer": "ipython3",
   "version": "3.12.2"
  }
 },
 "nbformat": 4,
 "nbformat_minor": 2
}
