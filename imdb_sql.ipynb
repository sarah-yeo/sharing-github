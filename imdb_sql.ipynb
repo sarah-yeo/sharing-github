{
 "cells": [
  {
   "cell_type": "code",
   "execution_count": null,
   "metadata": {},
   "outputs": [],
   "source": [
    "# Importing necessary libraries\n",
    "\n",
    "import sqlite3 as sql\n",
    "import kagglehub\n",
    "import os"
   ]
  },
  {
   "cell_type": "code",
   "execution_count": null,
   "metadata": {},
   "outputs": [],
   "source": [
    "# Creating the path to access the kaggle dataset\n",
    "\n",
    "path = kagglehub.dataset_download(\"luizpaulodeoliveira/imdb-project-sql\")\n",
    "\n",
    "# To show what files are stored in the kaggle dataset\n",
    "print(os.listdir(path))"
   ]
  },
  {
   "cell_type": "code",
   "execution_count": null,
   "metadata": {},
   "outputs": [],
   "source": [
    "# Access only the necessary database file (ie. 'movies.sqlite')\n",
    "db_file = os.path.join(path, \"movies.sqlite\")\n",
    "\n",
    "# Connect to the SQLite database\n",
    "conn = sql.connect(db_file)\n",
    "cursor = conn.cursor()\n",
    "\n",
    "# List all tables in the database\n",
    "cursor.execute(\"SELECT name FROM sqlite_master WHERE type='table';\")\n",
    "tables = cursor.fetchall()\n",
    "print(tables)"
   ]
  },
  {
   "cell_type": "code",
   "execution_count": null,
   "metadata": {},
   "outputs": [],
   "source": [
    "# Only the tables 'director' and 'movies' will be necessary"
   ]
  },
  {
   "cell_type": "code",
   "execution_count": null,
   "metadata": {},
   "outputs": [],
   "source": [
    "# To preview table 'directors'\n",
    "\n",
    "cursor.execute(\"SELECT * FROM directors LIMIT 5;\")\n",
    "col_d = [desc[0] for desc in cursor.description]\n",
    "row_d = cursor.fetchall()\n",
    "\n",
    "# Print column headers\n",
    "print(\" | \".join(col_d))\n",
    "print(\"-\" * (len(col_d) * 15))  # Separator\n",
    "\n",
    "# Print rows\n",
    "for row in row_d:\n",
    "    print(\" | \".join(str(col) for col in row))"
   ]
  },
  {
   "cell_type": "code",
   "execution_count": null,
   "metadata": {},
   "outputs": [],
   "source": [
    "# To preview table 'movies'\n",
    "\n",
    "cursor.execute(\"SELECT * FROM movies LIMIT 5;\")\n",
    "col_m = [desc[0] for desc in cursor.description]\n",
    "row_m = cursor.fetchall()\n",
    "\n",
    "# Print column headers\n",
    "print(\" | \".join(col_m))\n",
    "print(\"-\" * (len(col_m) * 15))  # Separator\n",
    "\n",
    "# Print rows\n",
    "for row in row_m:\n",
    "    print(\" | \".join(str(col) for col in row))"
   ]
  },
  {
   "cell_type": "code",
   "execution_count": null,
   "metadata": {},
   "outputs": [],
   "source": [
    "### TASK ###\n",
    "### Identify the top 10 highest-rated movies (by IMDb rating).\n",
    "\n",
    "# Determine the top 10 highest-rated movies by:\n",
    "# a. highest to lowest vote average; and\n",
    "# b. highest to lowest vote count (if movies have the same vote average)\n",
    "\n",
    "top_10 = \"\"\"\n",
    "SELECT id AS movie_id, title, vote_average, vote_count\n",
    "FROM movies\n",
    "ORDER BY vote_average DESC, vote_count DESC\n",
    "LIMIT 10\n",
    "\"\"\"\n",
    "\n",
    "# Execute query\n",
    "cursor.execute(top_10)\n",
    "header_top_10 = [desc[0] for desc in cursor.description]\n",
    "results_top_10 = cursor.fetchall()\n",
    "\n",
    "# Print column headers\n",
    "print(\" | \".join(header_top_10))\n",
    "print(\"-\" * (len(header_top_10) * 15))  # Separator\n",
    "\n",
    "# Print rows\n",
    "for movie in results_top_10:\n",
    "    print(\" | \".join(str(col) for col in movie))"
   ]
  },
  {
   "cell_type": "code",
   "execution_count": null,
   "metadata": {},
   "outputs": [],
   "source": [
    "# IMDb ranks movies based on the average vote received.\n",
    "# To identify the top 10 highest-rated movies, the list of movies must first be ordered by highest to lowest vote average.\n",
    "# In the event two or more movies have the same vote average, they will be ordered by highest to lowest vote count (to prioritize movies with more votes).\n",
    "# Since we only want the top 10 highest-rated movies, the top 10 rows of the dataset will be sufficient."
   ]
  },
  {
   "cell_type": "code",
   "execution_count": null,
   "metadata": {},
   "outputs": [],
   "source": [
    "### FINDINGS ###\n",
    "\n",
    "# A high-ranking movie generally has an average vote of 8 and above.\n",
    " \n",
    "# The movies \"Stiff Upper Lips\", \"Dancer, Texas Pop. 81\", \"Sardaarji\", \"One Man's Hero\", \"There Goes My Baby\" and \"The Prisoner of Zenda\"\n",
    "# are not good representations of a high-ranking movie as their vote count is less than 20, which is significantly lower than the vote count\n",
    "# of the other movies in the top 10 list.\n",
    "\n",
    "# A high vote average alone is unable to determine if the movie is popular and successful. "
   ]
  },
  {
   "cell_type": "code",
   "execution_count": null,
   "metadata": {},
   "outputs": [],
   "source": [
    "### TASK ###\n",
    "### Find the most prolific directors (directors with the most movies).\n",
    "\n",
    "# We define a prolific director as one who has directed 20 or more movies\n",
    "\n",
    "# Count the number of movies directed per director\n",
    "# Filter only the director IDs with 20 or more movies\n",
    "# Create a new table for this data\n",
    "\n",
    "pro_d_id = \"\"\"\n",
    "CREATE TABLE d_count AS\n",
    "SELECT director_id, COUNT(*) AS movie_count\n",
    "FROM movies\n",
    "GROUP BY director_id\n",
    "HAVING COUNT(*) >= 20\n",
    "ORDER BY movie_count DESC\n",
    "\"\"\"\n",
    "\n",
    "# Execute query\n",
    "cursor.execute(pro_d_id)\n",
    "\n",
    "\n",
    "# Establish the relationship between director ID and director name\n",
    "\n",
    "pro_d_name = \"\"\"\n",
    "SELECT d_count.director_id, \n",
    "       directors.name, \n",
    "       d_count.movie_count\n",
    "FROM d_count\n",
    "JOIN directors ON d_count.director_id = directors.id\n",
    "\"\"\"\n",
    "\n",
    "# Execute query\n",
    "cursor.execute(pro_d_name)\n",
    "header_pro_d = [desc[0] for desc in cursor.description]\n",
    "results_pro_d = cursor.fetchall()\n",
    "\n",
    "# Print column headers\n",
    "print(\" | \".join(header_pro_d))\n",
    "print(\"-\" * (len(header_pro_d) * 15))  # Separator\n",
    "\n",
    "# Print rows\n",
    "for d in results_pro_d:\n",
    "    print(\" | \".join(str(col) for col in d))"
   ]
  },
  {
   "cell_type": "code",
   "execution_count": null,
   "metadata": {},
   "outputs": [],
   "source": [
    "# We first define a prolific director as one who has directed 20 or more movies.\n",
    "# To identify prolific directors, we have to count the number of movies each director has directed based on their ID.\n",
    "# We only extract the rows with director IDs that have a count of 20 or more\n",
    "# To find their names, we create a relationship with our list of directors to find their names."
   ]
  },
  {
   "cell_type": "code",
   "execution_count": null,
   "metadata": {},
   "outputs": [],
   "source": [
    "### FINDINGS ###\n",
    "\n",
    "# Steven Spielberg can be said to be the most profilic, with a significant difference of movie count (count of 7)\n",
    "# between himself and the others.\n",
    "\n",
    "# A prolific director shoud be determined as one who has directed the most number of films in the span of their career,\n",
    "# and not just based on the numerical figure of movies they have directed.\n",
    "# ie. The highest average number of directed movies per year wil be a better determinant."
   ]
  },
  {
   "cell_type": "code",
   "execution_count": null,
   "metadata": {},
   "outputs": [],
   "source": [
    "### TASK ###\n",
    "### Determine trends in average movie ratings over the years.\n",
    "\n",
    "# Group the movies by category \"year\"\n",
    "# Calculate the average of all the vote_average movie ratings for each year\n",
    "# List down in chronological order to analyse the trend\n",
    "\n",
    "ratings_year = \"\"\"\n",
    "SELECT\n",
    "  strftime('%Y', release_date) AS year,\n",
    "  ROUND(AVG(vote_average), 2) AS vote_average_year\n",
    "FROM movies\n",
    "GROUP BY year\n",
    "ORDER BY year\n",
    "\"\"\"\n",
    "\n",
    "# Execute query\n",
    "cursor.execute(ratings_year)\n",
    "header_ratings = [desc[0] for desc in cursor.description]\n",
    "results_ratings = cursor.fetchall()\n",
    "\n",
    "# Print column headers\n",
    "print(\" | \".join(header_ratings))\n",
    "print(\"-\" * (len(header_ratings) * 15))  # Separator\n",
    "\n",
    "# Print rows\n",
    "for row in results_ratings:\n",
    "    print(\" | \".join(str(col) for col in row))"
   ]
  },
  {
   "cell_type": "code",
   "execution_count": null,
   "metadata": {},
   "outputs": [],
   "source": [
    "# We are only interested in the vote average of the all the movies across the years.\n",
    "# A good measure to use would be to find the average of the vote average for each year."
   ]
  },
  {
   "cell_type": "code",
   "execution_count": null,
   "metadata": {},
   "outputs": [],
   "source": [
    "### FINDINGS ###\n",
    "\n",
    "# The trend for movie ratings can be considered quite consistent over the years (ie. generally hovering between 6.5 to 7.3).\n",
    "\n",
    "# The year 1927 is shown to have the highest average vote across the years.\n",
    "\n",
    "# There was a small dip in average ratings in the year 1933 (rating of 5.6).\n",
    "\n",
    "# There was a slight downward trend in ratings starting from year 1977 onwards until year 2016.\n",
    "# However, the average rating picked up right after in year 2017 (rating of 7.4)."
   ]
  },
  {
   "cell_type": "code",
   "execution_count": null,
   "metadata": {},
   "outputs": [],
   "source": [
    "# Note: Kaggle dataset does not reflect movie genres and actors\n",
    "\n",
    "# Additional information was manually consolidated from the IMDb website as a table with movie genres and the names of the top starring actors.\n",
    "\n",
    "# File is saved as a csv data file and manually imported to retrieve the additional information."
   ]
  },
  {
   "cell_type": "code",
   "execution_count": null,
   "metadata": {},
   "outputs": [],
   "source": [
    "# To import the manually consolidated csv data file 'imdb_additional_information'\n",
    "\n",
    "# Import necessary library\n",
    "import pandas as pd\n",
    "\n",
    "# Read CSV file\n",
    "df = pd.read_csv('imdb_additional_information.csv', encoding='ISO-8859-1')\n",
    "\n",
    "# Create a table in SQLite with the corresponding columns as the CSV file\n",
    "table_name = 'imdb_add_info'\n",
    "columns = ', '.join(df.columns)\n",
    "create_table_query = f\"CREATE TABLE IF NOT EXISTS {table_name} ({columns})\"\n",
    "cursor.execute(create_table_query)\n",
    "\n",
    "# Insert the data from the DataFrame into SQLite\n",
    "df.to_sql(table_name, conn, if_exists='replace', index=False)\n",
    "\n",
    "# Commit changes\n",
    "conn.commit()\n"
   ]
  },
  {
   "cell_type": "code",
   "execution_count": null,
   "metadata": {},
   "outputs": [],
   "source": [
    "# To preview the imported csv file\n",
    "\n",
    "add_info = \"\"\"\n",
    "SELECT * FROM imdb_add_info \n",
    "ORDER BY movie_id\n",
    "\"\"\"\n",
    "\n",
    "# Execute query\n",
    "cursor.execute(add_info)\n",
    "col_add_info = [desc[0] for desc in cursor.description]\n",
    "row_add_info = cursor.fetchall()\n",
    "\n",
    "# Print column headers\n",
    "print(\" | \".join(col_add_info))\n",
    "print(\"-\" * (len(col_add_info) * 15))  # Separator\n",
    "\n",
    "# Print rows\n",
    "for row in row_add_info:\n",
    "    print(\" | \".join(str(col) for col in row))"
   ]
  },
  {
   "cell_type": "code",
   "execution_count": null,
   "metadata": {},
   "outputs": [],
   "source": [
    "# Create a table listing each movie ID with the corresponding actors as individual row entries\n",
    "\n",
    "movie_id_actor = \"\"\"\n",
    "CREATE TABLE actors AS\n",
    "WITH RECURSIVE name_split AS (\n",
    "    --Base case: Extract the first name first then the rest\n",
    "    SELECT \n",
    "        movie_id,\n",
    "        TRIM(SUBSTR(actors, 1, INSTR(actors || ',', ',') - 1)) AS name,\n",
    "        LTRIM(SUBSTR(actors, INSTR(actors || ',', ',') + 1)) AS remaining_names\n",
    "    FROM imdb_add_info\n",
    "    WHERE actors IS NOT NULL AND actors <> ''\n",
    "\n",
    "    UNION ALL\n",
    "\n",
    "    --Recursive case: Extract next name and keep processing\n",
    "    SELECT \n",
    "        movie_id,\n",
    "        TRIM(SUBSTR(remaining_names, 1, INSTR(remaining_names || ',', ',') - 1)) AS name,\n",
    "        LTRIM(SUBSTR(remaining_names, INSTR(remaining_names || ',', ',') + 1)) AS remaining_names\n",
    "    FROM name_split\n",
    "    WHERE remaining_names IS NOT NULL AND remaining_names <> ''\n",
    ")\n",
    "SELECT movie_id, name FROM name_split WHERE name <> '';\n",
    "\"\"\"\n",
    "\n",
    "# Execute query\n",
    "cursor.execute(movie_id_actor)\n"
   ]
  },
  {
   "cell_type": "code",
   "execution_count": null,
   "metadata": {},
   "outputs": [],
   "source": [
    "# To view the table of movie IDs with the corresponding actors as row entries\n",
    "\n",
    "actor_list = \"\"\"\n",
    "SELECT * FROM actors \n",
    "ORDER BY movie_id\n",
    "\"\"\"\n",
    "\n",
    "# Execute query\n",
    "cursor.execute(actor_list)\n",
    "col_actor = [desc[0] for desc in cursor.description]\n",
    "row_actor = cursor.fetchall()\n",
    "\n",
    "# Print column headers\n",
    "print(\" | \".join(col_actor))\n",
    "print(\"-\" * (len(col_actor) * 15))  # Separator\n",
    "\n",
    "# Print rows\n",
    "for row in row_actor:\n",
    "    print(\" | \".join(str(col) for col in row))"
   ]
  },
  {
   "cell_type": "code",
   "execution_count": null,
   "metadata": {},
   "outputs": [],
   "source": [
    "### TASK ###\n",
    "### Analyse the most common genres among highly rated movies.\n",
    "\n",
    "# Define a highly rated movie to have an IMDB rating of 8 and above\n",
    "# Count the occurrences of the genres and sort from highest to lowest\n",
    "\n",
    "genre = \"\"\"\n",
    "SELECT genre, COUNT(*) AS genre_count\n",
    "FROM imdb_add_info\n",
    "GROUP BY genre\n",
    "ORDER BY genre_count DESC\n",
    "\"\"\"\n",
    "\n",
    "# Execute query\n",
    "cursor.execute(genre)\n",
    "col_g = [desc[0] for desc in cursor.description]\n",
    "row_g = cursor.fetchall()\n",
    "\n",
    "# Print column headers\n",
    "print(\" | \".join(col_g))\n",
    "print(\"-\" * (len(col_g) * 15))  # Separator\n",
    "\n",
    "# Print rows\n",
    "for row in row_g:\n",
    "    print(\" | \".join(str(col) for col in row))"
   ]
  },
  {
   "cell_type": "code",
   "execution_count": null,
   "metadata": {},
   "outputs": [],
   "source": [
    "# A movie is considered to be highly rated if it has an IMDB rating of 8 and above.\n",
    "# Count the number of occurrences for each of the genres of the highly rated movies.\n",
    "# Sort occurrences from highest to lowest."
   ]
  },
  {
   "cell_type": "code",
   "execution_count": null,
   "metadata": {},
   "outputs": [],
   "source": [
    "### FINIDINGS ###\n",
    "\n",
    "# The \"Drama\" genre has 17 occurrences. The \"Crime\" genre has 14 occurrences.\n",
    "# Both \"Drama\" and \"Crime\" are the most common genres among highly rated movies.\n",
    "\n",
    "# Genres \"Documentary\", \"Comedy\" and \"Adventure\", each have 8 occurrences, making them the next few common genres.\n",
    "\n",
    "# Genres \"Sci-Fi\", \"Horror\" and \"Fantasy\" are least common amongst the highly rated movies."
   ]
  },
  {
   "cell_type": "code",
   "execution_count": null,
   "metadata": {},
   "outputs": [],
   "source": [
    "### TASK ###\n",
    "### Identify the actors with the most appearances in highly rated movies.\n",
    "\n",
    "# Define a highly rated movie to have an IMDB rating of 8 and above\n",
    "# Count the occurrences of the actor name and sort from highest to lowest\n",
    "\n",
    "actor_count = \"\"\"\n",
    "SELECT name, COUNT(*) AS actor_count\n",
    "FROM actors\n",
    "GROUP BY name\n",
    "ORDER BY actor_count DESC\n",
    "\"\"\"\n",
    "\n",
    "# Execute query\n",
    "cursor.execute(actor_count)\n",
    "col_ac = [desc[0] for desc in cursor.description]\n",
    "row_ac = cursor.fetchall()\n",
    "\n",
    "# Print column headers\n",
    "print(\" | \".join(col_ac))\n",
    "print(\"-\" * (len(col_ac) * 15))  # Separator\n",
    "\n",
    "# Print rows\n",
    "for row in row_ac:\n",
    "    print(\" | \".join(str(col) for col in row))"
   ]
  },
  {
   "cell_type": "code",
   "execution_count": null,
   "metadata": {},
   "outputs": [],
   "source": [
    "# A movie is considered to be highly rated if it has an IMDB rating of 8 and above.\n",
    "# Count the number of occrrences for each of the actor names of the highly rated movies.\n",
    "# Sort occurrences from highest to lowest."
   ]
  },
  {
   "cell_type": "code",
   "execution_count": null,
   "metadata": {},
   "outputs": [],
   "source": [
    "### FINDINGS ###\n",
    "\n",
    "# Actor \"Robert De Niro\" has the most number of appearances among the highly rated movies, with 4 occurences.\n",
    "\n",
    "# Actors \"Marlon Brando\", \"Ian McKellen\", \"Elijas Wood\" and \"Al Pacino\" have also appeared\n",
    "# a significant number of times, each with 3 occurrences."
   ]
  },
  {
   "cell_type": "code",
   "execution_count": null,
   "metadata": {},
   "outputs": [],
   "source": [
    "# To check what tables currently exist in the database\n",
    "\n",
    "#cursor.execute(\"SELECT name FROM sqlite_master WHERE type='table';\")\n",
    "#tables = cursor.fetchall()\n",
    "#print(tables)"
   ]
  },
  {
   "cell_type": "code",
   "execution_count": null,
   "metadata": {},
   "outputs": [],
   "source": [
    "# Remove new tables if necessary, to revert database to original form\n",
    "\n",
    "#cursor.execute(\"DROP TABLE d_count\")\n",
    "#cursor.execute(\"DROP TABLE imdb_add_info\")\n",
    "#cursor.execute(\"DROP TABLE actors\")"
   ]
  },
  {
   "cell_type": "code",
   "execution_count": null,
   "metadata": {},
   "outputs": [],
   "source": [
    "# To check what tables currently exist in the database after removing tables\n",
    "\n",
    "#cursor.execute(\"SELECT name FROM sqlite_master WHERE type='table';\")\n",
    "#tables = cursor.fetchall()\n",
    "#print(tables)"
   ]
  },
  {
   "cell_type": "code",
   "execution_count": null,
   "metadata": {},
   "outputs": [],
   "source": [
    "# Close the connection to the SQLite database\n",
    "conn.close()"
   ]
  }
 ],
 "metadata": {
  "kernelspec": {
   "display_name": "Python 3",
   "language": "python",
   "name": "python3"
  },
  "language_info": {
   "codemirror_mode": {
    "name": "ipython",
    "version": 3
   },
   "file_extension": ".py",
   "mimetype": "text/x-python",
   "name": "python",
   "nbconvert_exporter": "python",
   "pygments_lexer": "ipython3",
   "version": "3.12.2"
  }
 },
 "nbformat": 4,
 "nbformat_minor": 2
}
